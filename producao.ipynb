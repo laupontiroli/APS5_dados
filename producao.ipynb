{
 "cells": [
  {
   "cell_type": "code",
   "execution_count": 2,
   "metadata": {},
   "outputs": [],
   "source": [
    "import scipy.stats as st\n",
    "import pandas as pd \n",
    "import matplotlib.pyplot as plt "
   ]
  },
  {
   "cell_type": "code",
   "execution_count": 3,
   "metadata": {},
   "outputs": [],
   "source": [
    "# feminino \n",
    "df = pd.read_excel('aps_5_cdados.xlsx')\n",
    "df = df.set_index(\"Ano\")\n",
    "df_p_fem = df.iloc[5]\n",
    "x_barra_fem = df_p_fem.mean()\n",
    "sigma_fem = df_p_fem.std(ddof=1)"
   ]
  },
  {
   "cell_type": "code",
   "execution_count": 4,
   "metadata": {},
   "outputs": [
    {
     "name": "stdout",
     "output_type": "stream",
     "text": [
      "(0.030540876599375995, 0.11228564209269451)\n"
     ]
    }
   ],
   "source": [
    "# n = amostra\n",
    "# x_barra_fem = media \n",
    "# sigma_fem = np.std(n,ddof =1)\n",
    "n=10 \n",
    "c_min_fem = st.t.ppf(0.025, df=n-1, scale=sigma_fem,loc=x_barra_fem)\n",
    "c_max_fem = st.t.ppf(1-0.025, df=n-1, scale=sigma_fem,loc=x_barra_fem) \n",
    "intervalo_de_confianca_fem = (c_min_fem, c_max_fem)\n",
    "print(intervalo_de_confianca_fem)"
   ]
  },
  {
   "cell_type": "code",
   "execution_count": 5,
   "metadata": {},
   "outputs": [],
   "source": [
    "# masculino\n",
    "df_p_masc = df.iloc[4]\n",
    "x_barra_masc = df_p_masc.mean()\n",
    "sigma_masc = df_p_masc.std(ddof=1)"
   ]
  },
  {
   "cell_type": "code",
   "execution_count": 6,
   "metadata": {},
   "outputs": [
    {
     "name": "stdout",
     "output_type": "stream",
     "text": [
      "(0.05505928773659824, 0.13232570060376642)\n"
     ]
    }
   ],
   "source": [
    "n=10 \n",
    "c_min_masc = st.t.ppf(0.025, df=n-1, scale=sigma_masc,loc=x_barra_masc)\n",
    "c_max_masc = st.t.ppf(1-0.025, df=n-1, scale=sigma_masc,loc=x_barra_masc) \n",
    "intervalo_de_confianca_masc = (c_min_masc, c_max_masc)\n",
    "print(intervalo_de_confianca_masc)"
   ]
  },
  {
   "cell_type": "code",
   "execution_count": 41,
   "metadata": {},
   "outputs": [
    {
     "data": {
      "image/png": "[encoded data removed]",
      "text/plain": [
       "<Figure size 640x480 with 1 Axes>"
      ]
     },
     "metadata": {},
     "output_type": "display_data"
    }
   ],
   "source": [
    "import matplotlib.pyplot as plt \n",
    "from matplotlib.patches import Rectangle\n",
    "from matplotlib.collections import PatchCollection\n",
    "\n",
    "medio_masc = (c_min_masc+c_max_masc)/2\n",
    "x_masc=[1]\n",
    "y_masc=[medio_masc]\n",
    "yerror_masc = medio_masc - c_min_masc\n",
    "\n",
    "medio_fem = (c_min_fem+c_max_fem)/2\n",
    "x_fem=[2.5]\n",
    "y_fem=[medio_fem]\n",
    "yerror_fem = medio_fem - c_min_fem\n",
    "\n",
    "fig, ax = plt.subplots(1)\n",
    "errorboxes = [Rectangle((0.5, c_min_masc), 1,c_max_masc - c_min_masc),Rectangle((2., c_min_fem), 1, c_max_fem - c_min_fem)]\n",
    "    # Create patch collection with specified colour/alpha\n",
    "pc = PatchCollection(errorboxes, facecolor=['green','orange'], alpha=0.5,\n",
    "                         edgecolor=None)\n",
    "ax.add_collection(pc)\n",
    "ax.errorbar(x_masc,y_masc,yerr=yerror_masc,fmt='none', ecolor='green')\n",
    "ax.errorbar(x_fem,y_fem,yerr=yerror_fem,fmt='none', ecolor='orange')\n",
    "ax.legend(['Masculino','Feminino'])\n",
    "ax.plot([0,4],[c_max_fem,c_max_fem], color='r', linestyle='--')\n",
    "ax.plot([0,4],[c_min_masc,c_min_masc], color='r', linestyle='--')\n",
    "plt.xticks([0,1,2,3,4])\n",
    "plt.yticks([0.02,0.04,0.06,0.08,0.10,0.12,0.14])\n",
    "\n",
    "plt.show()"
   ]
  }
 ],
 "metadata": {
  "kernelspec": {
   "display_name": ".venv",
   "language": "python",
   "name": "python3"
  },
  "language_info": {
   "codemirror_mode": {
    "name": "ipython",
    "version": 3
   },
   "file_extension": ".py",
   "mimetype": "text/x-python",
   "name": "python",
   "nbconvert_exporter": "python",
   "pygments_lexer": "ipython3",
   "version": "3.11.4"
  }
 },
 "nbformat": 4,
 "nbformat_minor": 2
}
