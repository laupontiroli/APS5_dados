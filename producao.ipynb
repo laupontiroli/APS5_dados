{
 "cells": [
  {
   "cell_type": "code",
   "execution_count": 4,
   "metadata": {},
   "outputs": [],
   "source": [
    "import scipy.stats as st\n",
    "import pandas as pd \n",
    "import matplotlib.pyplot as plt "
   ]
  },
  {
   "cell_type": "code",
   "execution_count": 5,
   "metadata": {},
   "outputs": [],
   "source": [
    "# feminino \n",
    "df = pd.read_excel('aps_5_cdados.xlsx')\n",
    "df = df.set_index(\"Ano\")\n",
    "df_p_fem = df.iloc[5]\n",
    "x_barra_fem = df_p_fem.mean()\n",
    "sigma_fem = df_p_fem.std(ddof=1)"
   ]
  },
  {
   "cell_type": "code",
   "execution_count": 6,
   "metadata": {},
   "outputs": [
    {
     "name": "stdout",
     "output_type": "stream",
     "text": [
      "(0.030540876599375995, 0.11228564209269451)\n"
     ]
    }
   ],
   "source": [
    "# n = amostra\n",
    "# x_barra_fem = media \n",
    "# sigma_fem = np.std(n,ddof =1)\n",
    "n=10 \n",
    "c_min_fem = st.t.ppf(0.025, df=n-1, scale=sigma_fem,loc=x_barra_fem)\n",
    "c_max_fem = st.t.ppf(1-0.025, df=n-1, scale=sigma_fem,loc=x_barra_fem) \n",
    "intervalo_de_confianca_fem = (c_min_fem, c_max_fem)\n",
    "print(intervalo_de_confianca_fem)"
   ]
  },
  {
   "cell_type": "code",
   "execution_count": 7,
   "metadata": {},
   "outputs": [],
   "source": [
    "# masculino\n",
    "df_p_masc = df.iloc[4]\n",
    "x_barra_masc = df_p_masc.mean()\n",
    "sigma_masc = df_p_masc.std(ddof=1)"
   ]
  },
  {
   "cell_type": "code",
   "execution_count": 8,
   "metadata": {},
   "outputs": [
    {
     "name": "stdout",
     "output_type": "stream",
     "text": [
      "(0.05505928773659824, 0.13232570060376642)\n"
     ]
    }
   ],
   "source": [
    "n=10 \n",
    "c_min_masc = st.t.ppf(0.025, df=n-1, scale=sigma_masc,loc=x_barra_masc)\n",
    "c_max_masc = st.t.ppf(1-0.025, df=n-1, scale=sigma_masc,loc=x_barra_masc) \n",
    "intervalo_de_confianca_masc = (c_min_masc, c_max_masc)\n",
    "print(intervalo_de_confianca_masc)"
   ]
  },
  {
   "cell_type": "code",
   "execution_count": 11,
   "metadata": {},
   "outputs": [
    {
     "ename": "TypeError",
     "evalue": "bar() missing 1 required positional argument: 'height'",
     "output_type": "error",
     "traceback": [
      "\u001b[0;31m---------------------------------------------------------------------------\u001b[0m",
      "\u001b[0;31mTypeError\u001b[0m                                 Traceback (most recent call last)",
      "\u001b[1;32m/Users/laurapontiroli/Desktop/insper/segundo_semestre/APS5_dados/producao.ipynb Célula 6\u001b[0m line \u001b[0;36m1\n\u001b[0;32m----> <a href='vscode-notebook-cell:/Users/laurapontiroli/Desktop/insper/segundo_semestre/APS5_dados/producao.ipynb#W5sZmlsZQ%3D%3D?line=0'>1</a>\u001b[0m plt\u001b[39m.\u001b[39;49mbar(intervalo_de_confianca_masc)\n",
      "\u001b[0;31mTypeError\u001b[0m: bar() missing 1 required positional argument: 'height'"
     ]
    }
   ],
   "source": []
  }
 ],
 "metadata": {
  "kernelspec": {
   "display_name": ".venv",
   "language": "python",
   "name": "python3"
  },
  "language_info": {
   "codemirror_mode": {
    "name": "ipython",
    "version": 3
   },
   "file_extension": ".py",
   "mimetype": "text/x-python",
   "name": "python",
   "nbconvert_exporter": "python",
   "pygments_lexer": "ipython3",
   "version": "3.11.4"
  }
 },
 "nbformat": 4,
 "nbformat_minor": 2
}
